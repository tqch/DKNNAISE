{
 "cells": [
  {
   "cell_type": "code",
   "execution_count": 1,
   "metadata": {},
   "outputs": [],
   "source": [
    "# %load_ext autoreload\n",
    "# %autoreload 2"
   ]
  },
  {
   "cell_type": "code",
   "execution_count": 1,
   "metadata": {},
   "outputs": [],
   "source": [
    "import torch\n",
    "import torch.nn as nn\n",
    "import torch.nn.functional as F\n",
    "import torch.optim as optim\n",
    "from torchvision import datasets,transforms\n",
    "import numpy as np"
   ]
  },
  {
   "cell_type": "code",
   "execution_count": 2,
   "metadata": {},
   "outputs": [
    {
     "data": {
      "text/plain": [
       "True"
      ]
     },
     "execution_count": 2,
     "metadata": {},
     "output_type": "execute_result"
    }
   ],
   "source": [
    "torch.cuda.is_available()"
   ]
  },
  {
   "cell_type": "code",
   "execution_count": 13,
   "metadata": {},
   "outputs": [
    {
     "data": {
      "text/plain": [
       "'GeForce RTX 2060'"
      ]
     },
     "execution_count": 13,
     "metadata": {},
     "output_type": "execute_result"
    }
   ],
   "source": [
    "torch.cuda.get_device_name()"
   ]
  },
  {
   "cell_type": "code",
   "execution_count": null,
   "metadata": {},
   "outputs": [],
   "source": [
    "# unintialized\n",
    "a = torch.empty(4,5,dtype=torch.long)\n",
    "b = torch.zeros_like(a,dtype=torch.double)"
   ]
  },
  {
   "cell_type": "code",
   "execution_count": null,
   "metadata": {},
   "outputs": [],
   "source": [
    "a,b"
   ]
  },
  {
   "cell_type": "code",
   "execution_count": null,
   "metadata": {},
   "outputs": [],
   "source": [
    "c = torch.from_numpy(np.random.randn(4,5))\n",
    "c"
   ]
  },
  {
   "cell_type": "code",
   "execution_count": null,
   "metadata": {},
   "outputs": [],
   "source": [
    "d = torch.empty(4,5,dtype=torch.float)\n",
    "print(d)\n",
    "torch.add(a,b,out=d)\n",
    "print(d)"
   ]
  },
  {
   "cell_type": "code",
   "execution_count": null,
   "metadata": {},
   "outputs": [],
   "source": [
    "e = torch.randn(4,5)\n",
    "f = e.new_zeros(5,6)\n",
    "e,f"
   ]
  },
  {
   "cell_type": "code",
   "execution_count": null,
   "metadata": {},
   "outputs": [],
   "source": [
    "h = torch.randn((4,5),requires_grad=True)\n",
    "i = 2*h\n",
    "i.backward(h)\n",
    "h.grad"
   ]
  },
  {
   "cell_type": "code",
   "execution_count": 12,
   "metadata": {},
   "outputs": [
    {
     "data": {
      "text/plain": [
       "[PhysicalDevice(name='/physical_device:CPU:0', device_type='CPU')]"
      ]
     },
     "execution_count": 12,
     "metadata": {},
     "output_type": "execute_result"
    }
   ],
   "source": [
    "import tensorflow as tf\n",
    "tf.config.experimental.get_visible_devices()"
   ]
  },
  {
   "cell_type": "code",
   "execution_count": 17,
   "metadata": {},
   "outputs": [],
   "source": [
    "import os\n",
    "DATA_DIR = \"datasets\"\n",
    "BATCH_SIZE = 128\n",
    "try:\n",
    "    os.mkdir(DATA_DIR)\n",
    "except:\n",
    "    pass\n",
    "transform = transforms.Compose([transforms.ToTensor()])\n",
    "train_data = datasets.MNIST(root=DATA_DIR,download=True,train=True,transform=transform)\n",
    "train_dataloader = torch.utils.data.DataLoader(train_data,batch_size=BATCH_SIZE)\n",
    "test_data = datasets.MNIST(root=DATA_DIR,download=True,train=False,transform=transform)\n",
    "test_dataloader = torch.utils.data.DataLoader(test_data,batch_size=BATCH_SIZE)"
   ]
  },
  {
   "cell_type": "code",
   "execution_count": 60,
   "metadata": {},
   "outputs": [],
   "source": [
    "from tqdm import tqdm"
   ]
  },
  {
   "cell_type": "code",
   "execution_count": 67,
   "metadata": {},
   "outputs": [
    {
     "name": "stderr",
     "output_type": "stream",
     "text": [
      "Epoch 1/2: 100%|█████████████████████████| 469/469 [00:10<00:00, 42.95it/s, loss=0.003, train_acc=0.916, val_acc=0.951]\n",
      "Epoch 2/2: 100%|█████████████████████████| 469/469 [00:10<00:00, 43.21it/s, loss=0.002, train_acc=0.957, val_acc=0.959]\n"
     ]
    }
   ],
   "source": [
    "class MyNet(nn.Module):\n",
    "    def __init__(self):\n",
    "        super(MyNet,self).__init__()\n",
    "        self.fc1 = nn.Linear(784,64)\n",
    "        self.fc2 = nn.Linear(64,10)\n",
    "    def forward(self,x):\n",
    "        flatten = x.view(-1,np.prod(x.shape[1:]))\n",
    "        fc1 = F.relu(self.fc1(flatten))\n",
    "        fc2 = self.fc2(fc1)\n",
    "        return fc2\n",
    "        \n",
    "EPOCHS = 2\n",
    "\n",
    "net = MyNet()\n",
    "optimizer = optim.Adam(net.parameters(), lr=0.01)\n",
    "for epoch in range(EPOCHS):\n",
    "    \n",
    "    tqdm_loop = tqdm(train_dataloader)\n",
    "    running_loss = 0.0\n",
    "    train_correct,train_total = 0,0\n",
    "    val_correct,val_total = 0,0\n",
    "    \n",
    "    for i,data in enumerate(tqdm_loop):\n",
    "        optimizer.zero_grad()\n",
    "        \n",
    "        inputs,labels = data\n",
    "        output = net(inputs)\n",
    "        _,predict = torch.max(output.data,1)\n",
    "        \n",
    "        criterion = nn.CrossEntropyLoss()\n",
    "        loss = criterion(output,labels)\n",
    "        loss.backward()\n",
    "        optimizer.step()\n",
    "        \n",
    "        running_loss += loss.item()\n",
    "        train_correct += (predict==labels).sum().item()\n",
    "        train_total += len(labels)\n",
    "        \n",
    "        if i < len(tqdm_loop)-1:\n",
    "            tqdm_loop.set_description('Epoch {}/{}'.format(epoch+1,EPOCHS))\n",
    "            tqdm_loop.set_postfix(loss='{:.3f}'.format(loss/(i+1)),\n",
    "                                 train_acc='{:.3f}'.format(train_correct/train_total))\n",
    "        else:\n",
    "            train_acc = train_correct/train_total\n",
    "            with torch.no_grad():\n",
    "                for i,data in enumerate(test_dataloader):\n",
    "                    inputs,labels = data\n",
    "                    output = net(inputs)\n",
    "                    _,predict = torch.max(output.data,1)\n",
    "                    val_correct += (predict==labels).sum().item()\n",
    "                    val_total += labels.size(0)\n",
    "            val_acc = val_correct/val_total\n",
    "            tqdm_loop.set_description('Epoch {}/{}'.format(epoch+1,EPOCHS))\n",
    "            tqdm_loop.set_postfix(loss='{:.3f}'.format(loss/(i+1)),\n",
    "                                  train_acc='{:.3f}'.format(train_acc),\n",
    "                                val_acc='{:.3f}'.format(val_acc))"
   ]
  },
  {
   "cell_type": "code",
   "execution_count": 43,
   "metadata": {},
   "outputs": [
    {
     "data": {
      "text/plain": [
       "torch.return_types.max(\n",
       "values=tensor([9.2148]),\n",
       "indices=tensor([7]))"
      ]
     },
     "execution_count": 43,
     "metadata": {},
     "output_type": "execute_result"
    }
   ],
   "source": [
    "test_0 = test_data[0][0]\n",
    "torch.max(net(test_0).data,1)"
   ]
  },
  {
   "cell_type": "code",
   "execution_count": 65,
   "metadata": {},
   "outputs": [
    {
     "data": {
      "text/plain": [
       "<matplotlib.image.AxesImage at 0x247e2eed3c8>"
      ]
     },
     "execution_count": 65,
     "metadata": {},
     "output_type": "execute_result"
    },
    {
     "data": {
      "image/png": "[encoded data removed]",
      "text/plain": [
       "<Figure size 432x288 with 1 Axes>"
      ]
     },
     "metadata": {
      "needs_background": "light"
     },
     "output_type": "display_data"
    }
   ],
   "source": [
    "import matplotlib.pyplot as plt\n",
    "plt.imshow(test_0.numpy().squeeze(0),cmap=\"gray\")"
   ]
  },
  {
   "cell_type": "code",
   "execution_count": 69,
   "metadata": {},
   "outputs": [
    {
     "data": {
      "text/plain": [
       "array([[1],\n",
       "       [2]])"
      ]
     },
     "execution_count": 69,
     "metadata": {},
     "output_type": "execute_result"
    }
   ],
   "source": [
    "np.stack([[1],[2]],axis=0)"
   ]
  },
  {
   "cell_type": "code",
   "execution_count": 74,
   "metadata": {},
   "outputs": [],
   "source": [
    "from collections import Counter"
   ]
  },
  {
   "cell_type": "code",
   "execution_count": 132,
   "metadata": {},
   "outputs": [
    {
     "data": {
      "text/plain": [
       "True"
      ]
     },
     "execution_count": 132,
     "metadata": {},
     "output_type": "execute_result"
    }
   ],
   "source": [
    "a = torch.zeros((3,4),requires_grad=True)\n",
    "b = torch.zeros((3,4))\n",
    "c = a + b\n"
   ]
  },
  {
   "cell_type": "code",
   "execution_count": 155,
   "metadata": {},
   "outputs": [],
   "source": [
    "def pgd(net,X,y,eps,alpha,num_iter):\n",
    "    delta = torch.zeros_like(X,requires_grad=True)\n",
    "    for _ in range(num_iter):\n",
    "        output = net(X+delta)\n",
    "        criterion = nn.CrossEntropyLoss()\n",
    "        loss = criterion(output,y)\n",
    "        loss.backward()\n",
    "        delta.data = (delta + alpha*delta.grad.sign()).clamp(-eps,eps)\n",
    "        delta.grad.zero_()\n",
    "    return loss,delta.detach()"
   ]
  },
  {
   "cell_type": "code",
   "execution_count": 95,
   "metadata": {},
   "outputs": [],
   "source": [
    "a = torch.zeros_like(test_data[0][0],requires_grad=True)\n",
    "b = (a*a).sum()\n",
    "b.backward()"
   ]
  },
  {
   "cell_type": "code",
   "execution_count": 116,
   "metadata": {},
   "outputs": [
    {
     "data": {
      "text/plain": [
       "<function _VariableFunctions.from_numpy>"
      ]
     },
     "execution_count": 116,
     "metadata": {},
     "output_type": "execute_result"
    }
   ],
   "source": [
    "torch.from_numpy"
   ]
  },
  {
   "cell_type": "code",
   "execution_count": 143,
   "metadata": {},
   "outputs": [
    {
     "name": "stdout",
     "output_type": "stream",
     "text": [
      "torch.Size([128, 1, 28, 28]) torch.Size([128])\n",
      "torch.Size([128, 1, 28, 28]) torch.Size([128])\n",
      "torch.Size([128, 1, 28, 28]) torch.Size([128])\n",
      "torch.Size([128, 1, 28, 28]) torch.Size([128])\n",
      "torch.Size([128, 1, 28, 28]) torch.Size([128])\n",
      "torch.Size([128, 1, 28, 28]) torch.Size([128])\n",
      "torch.Size([128, 1, 28, 28]) torch.Size([128])\n",
      "torch.Size([128, 1, 28, 28]) torch.Size([128])\n",
      "torch.Size([128, 1, 28, 28]) torch.Size([128])\n",
      "torch.Size([128, 1, 28, 28]) torch.Size([128])\n"
     ]
    }
   ],
   "source": [
    "i = 0\n",
    "for X,y in train_dataloader:\n",
    "    if i < 10:\n",
    "        print(X.shape,y.shape)\n",
    "        i += 1\n",
    "    else:\n",
    "        break"
   ]
  },
  {
   "cell_type": "code",
   "execution_count": 168,
   "metadata": {},
   "outputs": [
    {
     "name": "stdout",
     "output_type": "stream",
     "text": [
      "Error rate: 1.000\n"
     ]
    }
   ],
   "source": [
    "errors = 0\n",
    "total = 0\n",
    "for X,y in test_dataloader:\n",
    "    _,delta = pgd(net,X,y,0.2,.1,100)\n",
    "    outputs = net(X+delta)\n",
    "    yp = torch.max(outputs,1)[1]\n",
    "    errors += (yp!=y).sum().item()\n",
    "    total += y.numel()\n",
    "print('Error rate: {:.3f}'.format(errors/total))"
   ]
  },
  {
   "cell_type": "code",
   "execution_count": 171,
   "metadata": {},
   "outputs": [
    {
     "data": {
      "text/plain": [
       "tensor([1, 2, 3, 4, 5, 6, 7, 8, 9, 0, 1, 2, 3, 4, 5, 6])"
      ]
     },
     "execution_count": 171,
     "metadata": {},
     "output_type": "execute_result"
    }
   ],
   "source": [
    "iter(test_dataloader)"
   ]
  },
  {
   "cell_type": "code",
   "execution_count": 170,
   "metadata": {},
   "outputs": [
    {
     "data": {
      "image/png": "[encoded data removed]",
      "text/plain": [
       "<Figure size 720x720 with 12 Axes>"
      ]
     },
     "metadata": {
      "needs_background": "light"
     },
     "output_type": "display_data"
    }
   ],
   "source": [
    "plt.figure(figsize=(10,10))\n",
    "for i in range(0,12):\n",
    "    plt.subplot(3,4,i+1)\n",
    "    plt.imshow((X+delta)[i].view(28,28).numpy())\n",
    "    plt.axis('off')\n",
    "    plt.title(f'predict={yp[i]}')\n",
    "plt.subplots_adjust(hspace=.5,wspace=.5)"
   ]
  },
  {
   "cell_type": "code",
   "execution_count": 2,
   "metadata": {},
   "outputs": [],
   "source": [
    "from cifar_model import CNN"
   ]
  },
  {
   "cell_type": "code",
   "execution_count": null,
   "metadata": {},
   "outputs": [],
   "source": [
    "cnn = torch.load(\"models\")"
   ]
  }
 ],
 "metadata": {
  "kernelspec": {
   "display_name": "Python 3",
   "language": "python",
   "name": "python3"
  },
  "language_info": {
   "codemirror_mode": {
    "name": "ipython",
    "version": 3
   },
   "file_extension": ".py",
   "mimetype": "text/x-python",
   "name": "python",
   "nbconvert_exporter": "python",
   "pygments_lexer": "ipython3",
   "version": "3.7.6"
  }
 },
 "nbformat": 4,
 "nbformat_minor": 4
}
