{
 "cells": [
  {
   "cell_type": "code",
   "execution_count": 1,
   "metadata": {},
   "outputs": [
    {
     "name": "stdout",
     "output_type": "stream",
     "text": [
      "=> loading checkpoint 'models/mnistmodel.pt'\n",
      "=> loaded checkpoint 'models/mnistmodel.pt' (epoch 55)\n"
     ]
    }
   ],
   "source": [
    "import os\n",
    "import sys\n",
    "import pickle\n",
    "\n",
    "%load_ext autoreload\n",
    "%autoreload 1\n",
    "%aimport DkNN,AISE\n",
    "\n",
    "from collections import Counter\n",
    "\n",
    "import matplotlib.pyplot   as plt\n",
    "# import matplotlib.gridspec as gridspec\n",
    "# from tqdm import tqdm, tqdm_notebook\n",
    "\n",
    "import numpy as np\n",
    "\n",
    "# from sklearn.metrics.pairwise import cosine_distances\n",
    "# from sklearn.neighbors        import NearestNeighbors\n",
    "\n",
    "import torch\n",
    "import torch.nn            as nn\n",
    "import torch.nn.functional as F\n",
    "import torch.optim         as optim\n",
    "from torch.utils.data.dataset import random_split\n",
    "from torchvision              import datasets \n",
    "from torchvision              import transforms\n",
    "\n",
    "from DkNN import CKNN\n",
    "# import dataset_input\n",
    "import utilities\n",
    "from mnist_model import CNN\n",
    "from attack import PGD\n",
    "\n",
    "device = torch.device('cuda')\n",
    "config = utilities.config_to_namedtuple(utilities.get_config('config_mnist.json'))\n",
    "\n",
    "mnist_trainset = datasets.MNIST(root='./datasets', train=True, download=False, transform = transforms.Compose([\n",
    "    transforms.ToTensor(),\n",
    "    transforms.Normalize((0.,), (1,))\n",
    "]))\n",
    "mnist_testset = datasets.MNIST(root='./datasets', train=False, download=False, transform = transforms.Compose([\n",
    "    transforms.ToTensor(),\n",
    "    transforms.Normalize((0.,), (1,))\n",
    "]))\n",
    "\n",
    "train_loader = torch.utils.data.DataLoader(mnist_trainset,\n",
    "    shuffle = True,\n",
    "    batch_size = 64\n",
    ")\n",
    "\n",
    "\n",
    "test_loader = torch.utils.data.DataLoader(mnist_testset,\n",
    "    shuffle = False,\n",
    "    batch_size = 64\n",
    ")\n",
    "\n",
    "filename = 'models/mnistmodel.pt'\n",
    "model = CNN().to(device)\n",
    "\n",
    "if os.path.isfile(filename):\n",
    "    print(\"=> loading checkpoint '{}'\".format(filename))\n",
    "    checkpoint = torch.load(filename,map_location=device)\n",
    "    model.load_state_dict(checkpoint['state_dict'])\n",
    "    print(\"=> loaded checkpoint '{}' (epoch {})\"\n",
    "              .format(filename, checkpoint['epoch']))\n",
    "else:\n",
    "    print(\"=> no checkpoint found at '{}'\".format(filename))"
   ]
  },
  {
   "cell_type": "code",
   "execution_count": 2,
   "metadata": {},
   "outputs": [],
   "source": [
    "np.random.seed(1234)\n",
    "ind_full = np.arange(60000)\n",
    "np.random.shuffle(ind_full)\n",
    "ind_partial = ind_full[:2000]\n",
    "X_train_partial = mnist_trainset.data[ind_partial].unsqueeze(1)/255.\n",
    "y_train_partial = mnist_trainset.targets[ind_partial]"
   ]
  },
  {
   "cell_type": "code",
   "execution_count": 3,
   "metadata": {},
   "outputs": [
    {
     "name": "stdout",
     "output_type": "stream",
     "text": [
      "\tRunning predictions\n",
      "\tConcatenating results\n"
     ]
    }
   ],
   "source": [
    "def feature_space(cnnmod, num_rep, inputs, labels, device, batch_size=128):\n",
    "\n",
    "    conv_features = [[] for _ in range(num_rep)]\n",
    "    targets       = []\n",
    "    predictions   = []\n",
    "    print('\\tRunning predictions')\n",
    "    cnnmod.eval()\n",
    "    for ind in range(0,inputs.size(0),batch_size):\n",
    "        X,y = inputs[ind:ind+batch_size],labels[ind:ind+batch_size]\n",
    "        *out_convs, out = cnnmod(X.to(device))\n",
    "        y_pred = torch.max(out,1)[1]\n",
    "        for i, out_conv in enumerate(out_convs):\n",
    "            conv_feat = out_conv.view(out_conv.size(0), -1).detach().cpu().numpy()\n",
    "            conv_features[i].append(conv_feat)\n",
    "        targets.append(y.numpy())\n",
    "        predictions.append(y_pred.detach().cpu().numpy())\n",
    "    print('\\tConcatenating results')\n",
    "    conv_features = [np.concatenate(out_convs) for out_convs in conv_features]\n",
    "    targets       = np.concatenate(targets)\n",
    "    predictions   = np.concatenate(predictions)\n",
    "\n",
    "    return conv_features, targets, predictions\n",
    "\n",
    "model.eval()\n",
    "conv_train, y_true, y_pred = feature_space(model, 4, X_train_partial, y_train_partial, device, 128)"
   ]
  },
  {
   "cell_type": "code",
   "execution_count": 4,
   "metadata": {},
   "outputs": [
    {
     "name": "stdout",
     "output_type": "stream",
     "text": [
      "The accuracy of plain cnn is: 0.999000\n"
     ]
    }
   ],
   "source": [
    "print('The accuracy of plain cnn is: {:f}'.format((y_true==y_pred).mean()))"
   ]
  },
  {
   "cell_type": "code",
   "execution_count": 4,
   "metadata": {},
   "outputs": [],
   "source": [
    "ind_eval = ind_full[2000:2100]\n",
    "X_eval = mnist_trainset.data[ind_eval].unsqueeze(1)/255.\n",
    "y_eval = mnist_trainset.targets[ind_eval]"
   ]
  },
  {
   "cell_type": "code",
   "execution_count": 5,
   "metadata": {},
   "outputs": [
    {
     "name": "stdout",
     "output_type": "stream",
     "text": [
      "The accuracy of plain cnn under PGD attacks is: 0.160000\n"
     ]
    }
   ],
   "source": [
    "X_adv = PGD(eps=40/255.,sigma=20/255.,DEVICE=device).attack_batch(model,X_eval.to(device),y_eval.to(device),batch_size=32)\n",
    "*_,out = model(X_adv)\n",
    "y_pred_adv = torch.max(out,1)[1]\n",
    "print('The accuracy of plain cnn under PGD attacks is: {:f}'.format((y_eval.numpy()==y_pred_adv.detach().cpu().numpy()).mean())) "
   ]
  },
  {
   "cell_type": "code",
   "execution_count": 7,
   "metadata": {},
   "outputs": [],
   "source": [
    "# plt.figure(figsize=(10,10))\n",
    "# plt.subplot(2,1,1)\n",
    "# plt.imshow(X_eval[0].squeeze().numpy())\n",
    "# plt.subplot(2,1,2)\n",
    "# plt.imshow(adv_inp[0].squeeze().detach().cpu().numpy())"
   ]
  },
  {
   "cell_type": "code",
   "execution_count": 8,
   "metadata": {},
   "outputs": [
    {
     "data": {
      "image/png": "[encoded data removed]",
      "text/plain": [
       "<Figure size 432x432 with 16 Axes>"
      ]
     },
     "metadata": {
      "needs_background": "light"
     },
     "output_type": "display_data"
    }
   ],
   "source": [
    "import matplotlib.pyplot as plt\n",
    "plt.figure(figsize=(6,6))\n",
    "plt.subplots_adjust(hspace=.5,wspace=.5)\n",
    "for i in range(16):\n",
    "    plt.subplot(4,4,i+1)\n",
    "    plt.imshow(X_adv[i].cpu().numpy().reshape(28,28))\n",
    "    plt.title(f'Predicted {y_pred_adv[i].item()}')\n",
    "    plt.axis('off')"
   ]
  },
  {
   "cell_type": "code",
   "execution_count": 6,
   "metadata": {},
   "outputs": [],
   "source": [
    "X_cali = mnist_testset.data[:500].unsqueeze(1)/255.\n",
    "y_cali = mnist_testset.targets[:500]\n",
    "\n",
    "#build a calibration class\n",
    "class Calibration():\n",
    "    def __init__(self, x_cali, y_cali):\n",
    "        self.x = x_cali\n",
    "        self.y = y_cali\n",
    "        self.n_sample = len(y_cali)\n",
    "    def __getitem__(self, index):\n",
    "        return self.x[index], self.y[index]\n",
    "    def __len__(self):\n",
    "        return self.n_sample\n",
    "\n",
    "\n",
    "calib_dataset = Calibration(X_cali, y_cali)\n",
    "   \n",
    "#Obtain the features of the calibrate dataset\n",
    "#conv_cali, _, pred_cali = feature_space(model, 4, x_batch_cali, y_batch_cali, device)"
   ]
  },
  {
   "cell_type": "code",
   "execution_count": 10,
   "metadata": {},
   "outputs": [
    {
     "name": "stdout",
     "output_type": "stream",
     "text": [
      "Building Nearest Neighbor finders.\n",
      "Building calibration set.\n",
      "Accuracy:                                  \t 0.96\n",
      "confidence for correct predictions:\t 0.98475\n",
      "credibility for correct predictions:\t 0.7999375\n"
     ]
    }
   ],
   "source": [
    "batch_size = 64\n",
    "\n",
    "deep_knn = CKNN(\n",
    "    model         = model, \n",
    "    device        = device, \n",
    "    train_conv = conv_train,\n",
    "    y_train = torch.Tensor(y_true),\n",
    "    calib_dataset = calib_dataset,\n",
    "    batch_size    = batch_size,\n",
    "    n_neighbors   = 5,\n",
    "    n_embs        = 4)\n",
    "\n",
    "sequential_calib_loader = torch.utils.data.DataLoader(\n",
    "    deep_knn.calib_dataset,\n",
    "    shuffle    = False,\n",
    "    batch_size = deep_knn.batch_size\n",
    ")\n",
    "\n",
    "y_pred, confidence, credibility = deep_knn.predict(X_eval.to(device))\n",
    "print('Accuracy:                                  \\t', (y_eval.cpu().numpy() == y_pred).mean())\n",
    "print('confidence for correct predictions:\\t', confidence[y_eval.cpu().numpy() == y_pred].mean())\n",
    "print('credibility for correct predictions:\\t', credibility[y_eval.cpu().numpy() == y_pred].mean())"
   ]
  },
  {
   "cell_type": "code",
   "execution_count": 11,
   "metadata": {},
   "outputs": [
    {
     "name": "stdout",
     "output_type": "stream",
     "text": [
      "Accuracy:                                  \t 0.85\n",
      "confidence for correct predictions:\t 0.983505882352941\n",
      "credibility for correct predictions:\t 0.7251294117647058\n"
     ]
    }
   ],
   "source": [
    "eps, step = (40.0,20)\n",
    "at = PGD(eps=eps / 255.0, sigma=2 / 255.0, nb_iter=step)\n",
    "pois_X_eval = at.attack(model, X_eval.to(device), y_eval.to(device))\n",
    "y_pred, confidence, credibility = deep_knn.predict(pois_X_eval)\n",
    "\n",
    "print('Accuracy:                                  \\t', (y_eval.cpu().numpy() == y_pred).mean())\n",
    "print('confidence for correct predictions:\\t', confidence[y_eval.cpu().numpy() == y_pred].mean())\n",
    "print('credibility for correct predictions:\\t', credibility[y_eval.cpu().numpy() == y_pred].mean())"
   ]
  },
  {
   "cell_type": "code",
   "execution_count": 12,
   "metadata": {},
   "outputs": [
    {
     "data": {
      "text/plain": [
       "(torch.Size([2000, 784]), torch.Size([100, 784]))"
      ]
     },
     "execution_count": 12,
     "metadata": {},
     "output_type": "execute_result"
    }
   ],
   "source": [
    "X_train_partial.flatten(start_dim=1).size(),X_eval.flatten(start_dim=1).size()"
   ]
  },
  {
   "cell_type": "code",
   "execution_count": 13,
   "metadata": {},
   "outputs": [
    {
     "name": "stdout",
     "output_type": "stream",
     "text": [
      "\tRunning predictions\n",
      "\tConcatenating results\n"
     ]
    }
   ],
   "source": [
    "X_hidden_partial, _, _ = feature_space(model, 4, X_train_partial, y_train_partial, device, 128)"
   ]
  },
  {
   "cell_type": "markdown",
   "metadata": {},
   "source": [
    "### Comparison AISE with plain KNN"
   ]
  },
  {
   "cell_type": "code",
   "execution_count": 8,
   "metadata": {},
   "outputs": [
    {
     "name": "stdout",
     "output_type": "stream",
     "text": [
      "Building query objects for 10 classes 2000 samples...done!\n",
      "Clonal expansion starts...\n",
      "Searching 10 naive B cells per class for each of 100 antigens...done!\n",
      "Affinity maturation process starts with population of 1000...\n",
      "Memory & plasma B cells generated!\n",
      "5000 plasma B cells and 20000 memory generated!\n",
      "Total running time is 202.27283692359924s.\n",
      "The accuracy of majority voting by AISE against adversarial samples is: 0.23\n",
      "The accuaracy of plain KNN against adversarial samples is: 0.85\n"
     ]
    }
   ],
   "source": [
    "import time\n",
    "from collections import Counter\n",
    "from AISE import *\n",
    "from sklearn.neighbors import KNeighborsClassifier\n",
    "\n",
    "aise = AISE(X_train_partial,y_train_partial,model=model)\n",
    "start_time = time.time()\n",
    "mem_bcs,mem_labs,pla_bcs,pla_labs = aise.clonal_expansion(X_adv.cpu())\n",
    "end_time = time.time()\n",
    "print(\"Total running time is {}s.\".format(end_time-start_time))\n",
    "y_pred = np.array(list(map(lambda x: Counter(x).most_common(1)[0][0],pla_labs.numpy())))\n",
    "print('The accuracy of majority voting by AISE against adversarial samples is: {}'.format((y_pred==y_eval.numpy()).mean()))\n",
    "\n",
    "knn = KNeighborsClassifier(n_neighbors=5)\n",
    "knn.fit(X_train_partial.flatten(start_dim=1).numpy(),y_train_partial.numpy())\n",
    "y_pred = knn.predict(X_adv.cpu().numpy().reshape(X_adv.size(0),-1))\n",
    "print('The accuaracy of plain KNN against adversarial samples is: {}'.format((y_pred==y_eval.numpy()).mean()))"
   ]
  },
  {
   "cell_type": "code",
   "execution_count": 15,
   "metadata": {},
   "outputs": [
    {
     "name": "stdout",
     "output_type": "stream",
     "text": [
      "Clonal expansion starts...\n",
      "Searching 10 naive B cells per class for each of 100 antigens...done!\n",
      "Affinity maturation process starts with population of 1000...\n",
      "Memory & plasma B cells generated!\n",
      "5000 plasma B cells and 20000 memory generated!\n",
      "Total running time is 40.505247592926025s.\n",
      "The accuracy of majority voting by AISE with clean samples is: 0.91\n",
      "The accuaracy of plain KNN with clean samples is: 0.93\n"
     ]
    }
   ],
   "source": [
    "start_time = time.time()\n",
    "mem_bcs,mem_labs,pla_bcs,pla_labs = aise.clonal_expansion(X_eval.cpu())\n",
    "end_time = time.time()\n",
    "print(\"Total running time is {}s.\".format(end_time-start_time))\n",
    "y_pred = np.array(list(map(lambda x: Counter(x).most_common(1)[0][0],pla_labs.numpy())))\n",
    "print('The accuracy of majority voting by AISE with clean samples is: {}'.format((y_pred==y_eval.numpy()).mean()))\n",
    "\n",
    "y_pred = knn.predict(X_eval.cpu().numpy().reshape(X_eval.size(0),-1))\n",
    "print('The accuaracy of plain KNN with clean samples is: {}'.format((y_pred==y_eval.numpy()).mean()))"
   ]
  },
  {
   "cell_type": "markdown",
   "metadata": {},
   "source": [
    "### Comparison AISE (hidden layers included) with plain KNN "
   ]
  },
  {
   "cell_type": "code",
   "execution_count": 16,
   "metadata": {},
   "outputs": [],
   "source": [
    "X_hidden_partial = [torch.Tensor(Xh) for Xh in X_hidden_partial]"
   ]
  },
  {
   "cell_type": "code",
   "execution_count": 17,
   "metadata": {},
   "outputs": [
    {
     "name": "stdout",
     "output_type": "stream",
     "text": [
      "Hidden representation found!\n",
      "Concatenating the input and hidden representations...\n",
      "Building query objects for 10 classes 2000 samples...done!\n",
      "Clonal expansion starts...\n",
      "Searching 10 naive B cells per class for each of 100 antigens...done!\n",
      "Affinity maturation process starts with population of 1000...\n",
      "Memory & plasma B cells generated!\n",
      "5000 plasma B cells and 20000 memory generated!\n",
      "Total running time is 709.2887315750122s.\n",
      "The accuracy of majority voting by AISE against adversarial samples is: 0.83\n",
      "The accuaracy of plain KNN against adversarial samples is: 0.85\n"
     ]
    }
   ],
   "source": [
    "aise = AISE(X_train_partial,y_train_partial,X_hidden_partial,1,model=model)\n",
    "start_time = time.time()\n",
    "mem_bcs,mem_labs,pla_bcs,pla_labs = aise.clonal_expansion(X_adv.cpu())\n",
    "end_time = time.time()\n",
    "print(\"Total running time is {}s.\".format(end_time-start_time))\n",
    "y_pred = np.array(list(map(lambda x: Counter(x).most_common(1)[0][0],pla_labs.numpy())))\n",
    "print('The accuracy of majority voting by AISE against adversarial samples is: {}'.format((y_pred==y_eval.numpy()).mean()))\n",
    "\n",
    "knn = KNeighborsClassifier(n_neighbors=5)\n",
    "knn.fit(X_train_partial.flatten(start_dim=1).numpy(),y_train_partial.numpy())\n",
    "y_pred = knn.predict(X_adv.cpu().numpy().reshape(X_adv.size(0),-1))\n",
    "print('The accuaracy of plain KNN against adversarial samples is: {}'.format((y_pred==y_eval.numpy()).mean()))"
   ]
  },
  {
   "cell_type": "code",
   "execution_count": 18,
   "metadata": {},
   "outputs": [
    {
     "data": {
      "text/plain": [
       "torch.Size([2000, 50960])"
      ]
     },
     "execution_count": 18,
     "metadata": {},
     "output_type": "execute_result"
    }
   ],
   "source": [
    "aise.X_cat.size()"
   ]
  },
  {
   "cell_type": "code",
   "execution_count": 19,
   "metadata": {},
   "outputs": [
    {
     "name": "stdout",
     "output_type": "stream",
     "text": [
      "Clonal expansion starts...\n",
      "Searching 10 naive B cells per class for each of 100 antigens...done!\n",
      "Affinity maturation process starts with population of 1000...\n",
      "Memory & plasma B cells generated!\n",
      "5000 plasma B cells and 20000 memory generated!\n",
      "Total running time is 710.3466720581055s.\n",
      "The accuracy of majority voting by AISE with clean samples is: 0.95\n",
      "The accuaracy of plain KNN with clean samples is: 0.93\n"
     ]
    }
   ],
   "source": [
    "start_time = time.time()\n",
    "mem_bcs,mem_labs,pla_bcs,pla_labs = aise.clonal_expansion(X_eval.cpu())\n",
    "end_time = time.time()\n",
    "print(\"Total running time is {}s.\".format(end_time-start_time))\n",
    "y_pred = np.array(list(map(lambda x: Counter(x).most_common(1)[0][0],pla_labs.numpy())))\n",
    "print('The accuracy of majority voting by AISE with clean samples is: {}'.format((y_pred==y_eval.numpy()).mean()))\n",
    "\n",
    "y_pred = knn.predict(X_eval.cpu().numpy().reshape(X_eval.size(0),-1))\n",
    "print('The accuaracy of plain KNN with clean samples is: {}'.format((y_pred==y_eval.numpy()).mean()))"
   ]
  },
  {
   "cell_type": "markdown",
   "metadata": {},
   "source": [
    "### Adaptive mutation range and probability"
   ]
  },
  {
   "cell_type": "code",
   "execution_count": 20,
   "metadata": {},
   "outputs": [
    {
     "name": "stdout",
     "output_type": "stream",
     "text": [
      "Hidden representation found!\n",
      "Concatenating the input and hidden representations...\n",
      "Building query objects for 10 classes 2000 samples...done!\n",
      "Clonal expansion starts...\n",
      "Searching 10 naive B cells per class for each of 100 antigens...done!\n",
      "Affinity maturation process starts with population of 1000...\n",
      "Memory & plasma B cells generated!\n",
      "5000 plasma B cells and 20000 memory generated!\n",
      "Total running time is 708.3828654289246s.\n",
      "The accuracy of majority voting by AISE against adversarial samples is: 0.85\n",
      "The accuaracy of plain KNN against adversarial samples is: 0.85\n"
     ]
    }
   ],
   "source": [
    "aise = AISE(X_train_partial,y_train_partial,X_hidden_partial,1,model=model,decay=(0.9,0.9))\n",
    "start_time = time.time()\n",
    "mem_bcs,mem_labs,pla_bcs,pla_labs = aise.clonal_expansion(X_adv.cpu())\n",
    "end_time = time.time()\n",
    "print(\"Total running time is {}s.\".format(end_time-start_time))\n",
    "y_pred = np.array(list(map(lambda x: Counter(x).most_common(1)[0][0],pla_labs.numpy())))\n",
    "print('The accuracy of majority voting by AISE against adversarial samples is: {}'.format((y_pred==y_eval.numpy()).mean()))\n",
    "\n",
    "knn = KNeighborsClassifier(n_neighbors=5)\n",
    "knn.fit(X_train_partial.flatten(start_dim=1).numpy(),y_train_partial.numpy())\n",
    "y_pred = knn.predict(X_adv.cpu().numpy().reshape(X_adv.size(0),-1))\n",
    "print('The accuaracy of plain KNN against adversarial samples is: {}'.format((y_pred==y_eval.numpy()).mean()))"
   ]
  },
  {
   "cell_type": "code",
   "execution_count": 21,
   "metadata": {},
   "outputs": [
    {
     "name": "stdout",
     "output_type": "stream",
     "text": [
      "Clonal expansion starts...\n",
      "Searching 10 naive B cells per class for each of 100 antigens...done!\n",
      "Affinity maturation process starts with population of 1000...\n",
      "Memory & plasma B cells generated!\n",
      "5000 plasma B cells and 20000 memory generated!\n",
      "Total running time is 702.0374672412872s.\n",
      "The accuracy of majority voting by AISE against adversarial samples is: 0.92\n",
      "The accuaracy of plain KNN against adversarial samples is: 0.93\n"
     ]
    }
   ],
   "source": [
    "start_time = time.time()\n",
    "mem_bcs,mem_labs,pla_bcs,pla_labs = aise.clonal_expansion(X_eval.cpu())\n",
    "end_time = time.time()\n",
    "print(\"Total running time is {}s.\".format(end_time-start_time))\n",
    "y_pred = np.array(list(map(lambda x: Counter(x).most_common(1)[0][0],pla_labs.numpy())))\n",
    "print('The accuracy of majority voting by AISE against adversarial samples is: {}'.format((y_pred==y_eval.numpy()).mean()))\n",
    "\n",
    "knn = KNeighborsClassifier(n_neighbors=5)\n",
    "knn.fit(X_train_partial.flatten(start_dim=1).numpy(),y_train_partial.numpy())\n",
    "y_pred = knn.predict(X_eval.cpu().numpy().reshape(X_adv.size(0),-1))\n",
    "print('The accuaracy of plain KNN against adversarial samples is: {}'.format((y_pred==y_eval.numpy()).mean()))"
   ]
  }
 ],
 "metadata": {
  "kernelspec": {
   "display_name": "Python 3",
   "language": "python",
   "name": "python3"
  },
  "language_info": {
   "codemirror_mode": {
    "name": "ipython",
    "version": 3
   },
   "file_extension": ".py",
   "mimetype": "text/x-python",
   "name": "python",
   "nbconvert_exporter": "python",
   "pygments_lexer": "ipython3",
   "version": "3.7.6"
  }
 },
 "nbformat": 4,
 "nbformat_minor": 4
}
