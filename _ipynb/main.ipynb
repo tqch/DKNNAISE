{
 "cells": [
  {
   "cell_type": "code",
   "execution_count": 1,
   "metadata": {
    "scrolled": true
   },
   "outputs": [
    {
     "name": "stdout",
     "output_type": "stream",
     "text": [
      "=> loading checkpoint 'models/cifarmodel.pt'\n",
      "Building the feature spaces from the selected set.\n",
      "\tRunning predictions\n",
      "\tConcatenating results\n",
      "Building Nearest Neighbor finders.\n",
      "Building calibration set.\n"
     ]
    }
   ],
   "source": [
    "import os\n",
    "import sys\n",
    "import pickle\n",
    "\n",
    "# from collections import Counter\n",
    "\n",
    "# import matplotlib.pyplot   as plt\n",
    "# import matplotlib.gridspec as gridspec\n",
    "# from tqdm import tqdm, tqdm_notebook\n",
    "\n",
    "import numpy as np\n",
    "\n",
    "# from sklearn.metrics.pairwise import cosine_distances\n",
    "# from sklearn.neighbors        import NearestNeighbors\n",
    "\n",
    "import torch\n",
    "import torch.nn            as nn\n",
    "import torch.nn.functional as F\n",
    "import torch.optim         as optim\n",
    "# from torch.utils.data.dataset import random_split\n",
    "# from torchvision              import datasets \n",
    "# from torchvision              import transforms\n",
    "\n",
    "from DkNN import CKNN\n",
    "import dataset_input\n",
    "import utilities\n",
    "from cifar_model import CNN\n",
    "from attack import PGD\n",
    "\n",
    "\n",
    "\n",
    "def feature_space(cnnmod, num_rep, data, label, device):\n",
    "    print('Building the feature spaces from the selected set.')\n",
    "\n",
    "    conv_features = [[] for _ in range(num_rep)]\n",
    "    targets       = []\n",
    "    predictions   = []\n",
    "    print('\\tRunning predictions')\n",
    "    cnnmod.eval()\n",
    "    data = data.to(device)\n",
    "    *out_convs, y_pred = cnnmod(data)\n",
    "    for i, out_conv in enumerate(out_convs):\n",
    "        conv_feat = out_conv.view(out_conv.size(0), -1).cpu().detach().numpy()\n",
    "        conv_features[i].append(conv_feat)\n",
    "    targets.append(label.numpy())\n",
    "    predictions.append(y_pred.cpu().detach().numpy())\n",
    "    print('\\tConcatenating results')\n",
    "    conv_features = [np.concatenate(out_convs) for out_convs in conv_features]\n",
    "    targets       = np.concatenate(targets)\n",
    "    predictions   = np.concatenate(predictions, axis = 0)\n",
    "\n",
    "    return conv_features, targets, predictions\n",
    "\n",
    "\n",
    "\n",
    "\n",
    "device = torch.device('cuda:5')\n",
    "config = utilities.config_to_namedtuple(utilities.get_config('config_cifar.json'))\n",
    "dataset = dataset_input.CIFAR10Data(config, seed=config.training.np_random_seed)\n",
    "filename = 'models/cifarmodel.pt'\n",
    "model = CNN().to(device)\n",
    "\n",
    "if os.path.isfile(filename):\n",
    "    print(\"=> loading checkpoint '{}'\".format(filename))\n",
    "    checkpoint = torch.load(filename)\n",
    "    model.load_state_dict(checkpoint['state_dict'])\n",
    "#     print(\"=> loaded checkpoint '{}' (epoch {})\"\n",
    "#               .format(filename, checkpoint['state_dict']))\n",
    "else:\n",
    "    print(\"=> no checkpoint found at '{}'\".format(filename))\n",
    "\n",
    "\n",
    "\n",
    "#training data: select 49000 data points from 49000 data points\n",
    "batch = 49000\n",
    "x_batch, y_batch = dataset.train_data.get_next_batch(batch,\n",
    "                                                         multiple_passes=True)\n",
    "x_batch = x_batch / 255.0\n",
    "\n",
    "x_batch_train = torch.from_numpy(x_batch.astype(np.float32).transpose((0, 3, 1, 2)))\n",
    "y_batch_train = torch.from_numpy(y_batch.astype(np.int64))\n",
    "\n",
    "conv_train, _, pred_train = feature_space(model, 4, x_batch_train, y_batch_train, device)\n",
    "\n",
    "\n",
    "\n",
    "\n",
    "#calibrate data: select 1000 data points from 1000 data points\n",
    "batch_cali = 1000\n",
    "x_batch, y_batch = dataset.cali_data.get_next_batch(batch_cali,\n",
    "                                                         multiple_passes=True)\n",
    "x_batch = x_batch / 255.0\n",
    "\n",
    "x_batch_cali = torch.from_numpy(x_batch.astype(np.float32).transpose((0, 3, 1, 2)))\n",
    "y_batch_cali = torch.from_numpy(y_batch.astype(np.int64))\n",
    "\n",
    "\n",
    "#build a calibration class\n",
    "class Calibration():\n",
    "    def __init__(self, x_cali, y_cali):\n",
    "        self.x = x_cali\n",
    "        self.y = y_cali\n",
    "        self.n_sample = len(y_cali)\n",
    "    def __getitem__(self, index):\n",
    "        return self.x[index], self.y[index]\n",
    "    def __len__(self):\n",
    "        return self.n_sample\n",
    "\n",
    "\n",
    "calib_dataset = Calibration(x_batch_cali, y_batch_cali)\n",
    "model.eval()    \n",
    "#Obtain the features of the calibrate dataset\n",
    "#conv_cali, _, pred_cali = feature_space(model, 4, x_batch_cali, y_batch_cali, device)\n",
    "\n",
    "batch_size = 1000\n",
    "deep_knn = CKNN(\n",
    "    model         = model, \n",
    "    device        = device, \n",
    "    train_conv = conv_train,\n",
    "    y_train = y_batch_train,\n",
    "    calib_dataset = calib_dataset,\n",
    "    batch_size    = batch_size,\n",
    "    n_neighbors   = 3,\n",
    "    n_embs        = 4 \n",
    ")"
   ]
  },
  {
   "cell_type": "code",
   "execution_count": 2,
   "metadata": {
    "scrolled": false
   },
   "outputs": [],
   "source": [
    "#eval data: select 10000 data points from 10000 data points\n",
    "batch_eval = 10000\n",
    "x_batch, y_batch = dataset.eval_data.get_next_batch(batch_eval,\n",
    "                                                         multiple_passes=True)\n",
    "x_batch = x_batch / 255.0\n",
    "\n",
    "x_batch_eval = torch.from_numpy(x_batch.astype(np.float32).transpose((0, 3, 1, 2)))\n",
    "y_batch_eval = torch.from_numpy(y_batch.astype(np.int64))\n",
    "\n",
    "y_pred, confidence, credibility = deep_knn.predict(x_batch_eval)"
   ]
  },
  {
   "cell_type": "code",
   "execution_count": 3,
   "metadata": {},
   "outputs": [
    {
     "name": "stdout",
     "output_type": "stream",
     "text": [
      "Accuracy:                                  \t 0.5602\n",
      "confidence for correct predictions:\t 0.8143416636915389\n",
      "credibility for correct predictions:\t 0.9230003570153515\n"
     ]
    }
   ],
   "source": [
    "print('Accuracy:                                  \\t', (y_batch_eval.cpu().numpy() == y_pred).mean())\n",
    "print('confidence for correct predictions:\\t', confidence[y_batch_eval.cpu().numpy() == y_pred].mean())\n",
    "print('credibility for correct predictions:\\t', credibility[y_batch_eval.cpu().numpy() == y_pred].mean())"
   ]
  },
  {
   "cell_type": "code",
   "execution_count": 4,
   "metadata": {},
   "outputs": [
    {
     "name": "stdout",
     "output_type": "stream",
     "text": [
      "adversarial accuracy:                                  \t 0.54\n",
      "confidence for correct predictions:\t 0.8112348148148147\n",
      "credibility for correct predictions:\t 0.9206657407407406\n"
     ]
    }
   ],
   "source": [
    "eps, step = (2.0,10)\n",
    "at = PGD(eps=eps / 255.0, sigma=2 / 255.0, nb_iter=step)\n",
    "pois_x_batch_eval = at.attack(model, x_batch_eval.to(device), y_batch_eval.to(device))\n",
    "y_pred, confidence, credibility = deep_knn.predict(pois_x_batch_eval)\n",
    "\n",
    "print('adversarial accuracy:                                  \\t', (y_batch_eval.cpu().numpy() == y_pred).mean())\n",
    "print('confidence for correct predictions:\\t', confidence[y_batch_eval.cpu().numpy() == y_pred].mean())\n",
    "print('credibility for correct predictions:\\t', credibility[y_batch_eval.cpu().numpy() == y_pred].mean())"
   ]
  },
  {
   "cell_type": "code",
   "execution_count": null,
   "metadata": {},
   "outputs": [],
   "source": [
    "eps, step = (8.0,10)\n",
    "at = PGD(eps=eps / 255.0, sigma=2 / 255.0, nb_iter=step)\n",
    "pois_x_batch_eval = at.attack(model, x_batch_eval.to(device), y_batch_eval.to(device))\n",
    "y_pred, confidence, credibility = deep_knn.predict(pois_x_batch_eval)\n",
    "\n",
    "print('adversarial accuracy:                                  \\t', (y_batch_eval.cpu().numpy() == y_pred).mean())\n",
    "print('confidence for correct predictions:\\t', confidence[y_batch_eval.cpu().numpy() == y_pred].mean())\n",
    "print('credibility for correct predictions:\\t', credibility[y_batch_eval.cpu().numpy() == y_pred].mean())"
   ]
  },
  {
   "cell_type": "code",
   "execution_count": null,
   "metadata": {},
   "outputs": [],
   "source": []
  }
 ],
 "metadata": {
  "kernelspec": {
   "display_name": "Python 3",
   "language": "python",
   "name": "python3"
  },
  "language_info": {
   "codemirror_mode": {
    "name": "ipython",
    "version": 3
   },
   "file_extension": ".py",
   "mimetype": "text/x-python",
   "name": "python",
   "nbconvert_exporter": "python",
   "pygments_lexer": "ipython3",
   "version": "3.7.7"
  }
 },
 "nbformat": 4,
 "nbformat_minor": 4
}
