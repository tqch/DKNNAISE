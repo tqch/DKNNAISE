{
 "cells": [
  {
   "cell_type": "code",
   "execution_count": null,
   "metadata": {},
   "outputs": [],
   "source": [
    "import os\n",
    "import sys\n",
    "import torch\n",
    "import numpy as np\n",
    "from scipy import stats\n",
    "from tqdm import tqdm, tqdm_notebook\n",
    "import matplotlib.pyplot as plt\n",
    "import math\n",
    "from torchvision import datasets \n",
    "import torchvision.transforms as transforms\n",
    "import torchvision\n",
    "# import dataset_input\n",
    "import utilities\n",
    "from tqdm import trange\n",
    "\n",
    "import torch.nn as nn\n",
    "import torch.nn.functional as F\n",
    "\n",
    "from mnist_model import CNN\n",
    "\n",
    "\n",
    "    \n",
    "class ModelLayer1(nn.Module):\n",
    "    def __init__(self):\n",
    "        super(ModelLayer1, self).__init__()\n",
    "        self.conv1 = nn.Conv2d(1 , 64 , 3, padding = 1)\n",
    "        \n",
    "    def forward(self, x):\n",
    "        out_conv1 = F.dropout(F.relu(self.conv1(x)), 0.1, training = self.training)\n",
    "        \n",
    "        return out_conv1\n",
    "\n",
    "device = torch.device('cuda:0')\n",
    "\n",
    "\n",
    "start_epoch = 0\n",
    "filename = 'models/mnistrobustmodel.pt'\n",
    "model1 = ModelLayer1().to(device)\n",
    "lay1_dict = model1.state_dict()\n",
    "if os.path.isfile(filename):\n",
    "    print(\"=> loading checkpoint '{}'\".format(filename))\n",
    "    checkpoint = torch.load(filename)\n",
    "    pre_dict = checkpoint['state_dict']\n",
    "    print(\"=> loaded checkpoint '{}' (epoch {})\"\n",
    "              .format(filename, checkpoint['epoch']))\n",
    "else:\n",
    "    print(\"=> no checkpoint found at '{}'\".format(filename))\n",
    "    \n",
    "pre_dict = {k: v for k, v in pre_dict.items() if k in lay1_dict}\n",
    "model1.load_state_dict(pre_dict)\n"
   ]
  },
  {
   "cell_type": "code",
   "execution_count": null,
   "metadata": {},
   "outputs": [],
   "source": []
  }
 ],
 "metadata": {
  "kernelspec": {
   "display_name": "Python 3",
   "language": "python",
   "name": "python3"
  },
  "language_info": {
   "codemirror_mode": {
    "name": "ipython",
    "version": 3
   },
   "file_extension": ".py",
   "mimetype": "text/x-python",
   "name": "python",
   "nbconvert_exporter": "python",
   "pygments_lexer": "ipython3",
   "version": "3.7.6"
  }
 },
 "nbformat": 4,
 "nbformat_minor": 4
}
